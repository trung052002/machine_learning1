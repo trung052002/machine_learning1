{
 "cells": [
  {
   "cell_type": "code",
   "execution_count": 37,
   "metadata": {
    "collapsed": true
   },
   "outputs": [
    {
     "data": {
      "text/plain": "<Figure size 432x288 with 1 Axes>",
      "image/png": "[encoded data removed]"
     },
     "metadata": {},
     "output_type": "display_data"
    }
   ],
   "source": [
    "from __future__ import division, print_function, unicode_literals\n",
    "import numpy as np\n",
    "import matplotlib.pyplot as plt\n",
    "# Temp (F degree)\n",
    "X = np.array([[194.5, 194.3, 197.9, 198.4, 199.4, 199.9, 200.9, 201.1, 201.4, 201.3, 203.6, 204.6, 209.5, 208.6, 210.7, 211.9, 212.2]]).T\n",
    "# Press (Atm)\n",
    "y = np.array([[20.79,20.79,22.4,22.67,23.15,23.35,23.89,23.99,24.02,24.01,25.14,26.57,28.49,27.76,29.04,29.88,30.06]]).T\n",
    "# Visualize data\n",
    "plt.plot(X, y, 'ro')\n",
    "plt.axis([193, 213, 19, 31])\n",
    "plt.xlabel('Temperature (F)')\n",
    "plt.ylabel('Pressure (Atm)')\n",
    "plt.show()"
   ]
  },
  {
   "cell_type": "code",
   "execution_count": 38,
   "outputs": [
    {
     "name": "stdout",
     "output_type": "stream",
     "text": [
      "w =  [[-81.06372713]\n",
      " [  0.5228924 ]]\n"
     ]
    },
    {
     "data": {
      "text/plain": "<Figure size 432x288 with 1 Axes>",
      "image/png": "[encoded data removed]"
     },
     "metadata": {},
     "output_type": "display_data"
    }
   ],
   "source": [
    "# Building Xbar\n",
    "one = np.ones((X.shape[0], 1))\n",
    "Xbar = np.concatenate((one, X), axis = 1)\n",
    "\n",
    "# Calculating weights of the fitting line\n",
    "A = np.dot(Xbar.T, Xbar)\n",
    "b = np.dot(Xbar.T, y)\n",
    "w = np.dot(np.linalg.pinv(A), b)\n",
    "print('w = ', w)\n",
    "# Preparing the fitting line\n",
    "w_0 = w[0][0]\n",
    "w_1 = w[1][0]\n",
    "x0 = np.linspace(193, 213, 2)\n",
    "y0 = w_0 + w_1*x0\n",
    "\n",
    "# Drawing the fitting line\n",
    "plt.plot(X.T, y.T, 'ro') # data\n",
    "plt.plot(x0, y0) # the fitting line\n",
    "plt.axis([193, 213, 19, 31])\n",
    "plt.xlabel('Temperature (F)')\n",
    "plt.ylabel('Pressure (Atm)')\n",
    "plt.show()\n"
   ],
   "metadata": {
    "collapsed": false
   }
  },
  {
   "cell_type": "code",
   "execution_count": 39,
   "outputs": [],
   "source": [
    "import math\n",
    "import numpy as np\n",
    "with open('fuel.txt') as f:\n",
    "    lines = f.readlines()\n",
    "\n",
    "    x_data = []\n",
    "    y_data = []\n",
    "    lines.pop(0)\n",
    "\n",
    "    for line in lines:\n",
    "        splitted = line.replace('\\n', '').split(',')\n",
    "        splitted.pop(0)\n",
    "        splitted = list(map(float, splitted))\n",
    "        fuel = 1000 * splitted[1] / splitted[5]\n",
    "        dlic = 1000 * splitted[0] / splitted[5]\n",
    "        logMiles = math.log2(splitted[3])\n",
    "        y_data.append([fuel])\n",
    "        x_data.append([splitted[-1], dlic, splitted[2], logMiles])\n",
    "\n",
    "    x_data = np.asarray(x_data)\n",
    "    y_data = np.asarray(y_data)"
   ],
   "metadata": {
    "collapsed": false
   }
  },
  {
   "cell_type": "code",
   "execution_count": 40,
   "outputs": [],
   "source": [
    "def qr_householder(A):\n",
    "#\"\"\" Compute QR decomposition of A using Householder reflection\"\"\"\n",
    "    M = A.shape[0]\n",
    "    N = A.shape[1]\n",
    "\n",
    "    # set Q to the identity matrix\n",
    "    Q = np.identity(M)\n",
    "\n",
    "    # set R to zero matrix\n",
    "    R = np.copy(A)\n",
    "\n",
    "    for n in range(N):\n",
    "        # vector to transform\n",
    "        x = A[n:, n]\n",
    "        k = x.shape[0]\n",
    "\n",
    "        # compute ro=-sign(x0)||x||\n",
    "        ro = -np.sign(x[0]) * np.linalg.norm(x)\n",
    "\n",
    "        #compute the householder vector v\n",
    "        e = np.zeros(k)\n",
    "        e[0] = 1\n",
    "        v = (1 / (x[0] - ro)) * (x - (ro * e))\n",
    "\n",
    "        # apply v to each column of A to find R\n",
    "        for i in range(N):\n",
    "            R[n:, i] = R[n:, i] - (2 / (v@v)) * ((np.outer(v, v)) @ R[n:, i])\n",
    "\n",
    "        # apply v to each column of Q\n",
    "        for i in range(M):\n",
    "            Q[n:, i] = Q[n:, i] - (2 / (v@v)) * ((np.outer(v, v)) @ Q[n:, i])\n",
    "\n",
    "    return Q.transpose(), R\n",
    "\n",
    "def linear_regression(x_data, y_data):\n",
    "# \"\"\"\n",
    "\n",
    "# This function calculate linear regression base on x_data and y_data\n",
    "# :param x_data: vector\n",
    "# :param y_data: vector\n",
    "# :return: w (regression estimate)\n",
    "# \"\"\"\n",
    "\n",
    "# add column 1\n",
    "    x_bars = np.concatenate((np.ones((x_data.shape[0], 1)), x_data), axis=1)\n",
    "\n",
    "    Q, R = qr_householder(x_bars) # QR decomposition\n",
    "    R_pinv = np.linalg.pinv(R) # calculate inverse matrix of R\n",
    "    A = np.dot(R_pinv, Q.T) # apply formula\n",
    "\n",
    "    return np.dot(A, y_data)"
   ],
   "metadata": {
    "collapsed": false
   }
  },
  {
   "cell_type": "code",
   "execution_count": 41,
   "outputs": [
    {
     "name": "stdout",
     "output_type": "stream",
     "text": [
      "           Intercept: 154.1928445773093\n",
      "                 Tax: -4.227983208329615\n",
      "                Dlic: 0.4718712134419819\n",
      "              Income: -0.006135330970417619\n",
      "            LogMiles: 18.545274506048017\n"
     ]
    }
   ],
   "source": [
    "w = linear_regression(x_data, y_data) # get result\n",
    "w = w.T.tolist()\n",
    "line = ['Intercept', 'Tax', \"Dlic\", \"Income\", 'LogMiles']\n",
    "res = list(zip(line, w[0]))\n",
    "for o in res:\n",
    "    print(\"{: >20}: {: >10}\".format(*o))"
   ],
   "metadata": {
    "collapsed": false
   }
  },
  {
   "cell_type": "markdown",
   "source": [
    "SCIKIT-LEARN Method:"
   ],
   "metadata": {
    "collapsed": false
   }
  },
  {
   "cell_type": "code",
   "execution_count": 42,
   "outputs": [
    {
     "data": {
      "text/plain": "array([[-81.06372713,   0.5228924 ]])"
     },
     "execution_count": 42,
     "metadata": {},
     "output_type": "execute_result"
    }
   ],
   "source": [
    "from sklearn import datasets, linear_model\n",
    "# Load training data here and assign to Xbar (obs. Data) and y (label)\n",
    "# fit the model by Linear Regression\n",
    "regr = linear_model.LinearRegression(fit_intercept=False)\n",
    "# fit_intercept = False for calculating the bias\n",
    "regr.fit(Xbar, y)\n",
    "regr.coef_"
   ],
   "metadata": {
    "collapsed": false
   }
  },
  {
   "cell_type": "markdown",
   "source": [
    "# EXCERCISE"
   ],
   "metadata": {
    "collapsed": false
   }
  },
  {
   "cell_type": "code",
   "execution_count": 43,
   "outputs": [
    {
     "data": {
      "text/plain": "<Figure size 432x288 with 1 Axes>",
      "image/png": "[encoded data removed]"
     },
     "metadata": {},
     "output_type": "display_data"
    }
   ],
   "source": [
    "import numpy as np\n",
    "import pandas as pd\n",
    "import matplotlib.pyplot as plt\n",
    "\n",
    "data = pd.read_csv(\"SAT_GPA.csv\")\n",
    "data.describe()\n",
    "\n",
    "y = data['GPA']\n",
    "x = data['SAT']\n",
    "\n",
    "y_training = y[:60]\n",
    "x_training = x[:60]\n",
    "\n",
    "y_validation = y[60:]\n",
    "x_validation = x[60:]\n",
    "\n",
    "plt.scatter(x_training, y_training)\n",
    "plt.xlabel('SAT', fontsize = 20)\n",
    "plt.ylabel('GPA', fontsize = 20)\n",
    "plt.scatter(x_validation, y_validation)\n",
    "plt.show()\n"
   ],
   "metadata": {
    "collapsed": false
   }
  },
  {
   "cell_type": "code",
   "execution_count": 44,
   "outputs": [
    {
     "data": {
      "text/plain": "<class 'statsmodels.iolib.summary.Summary'>\n\"\"\"\n                            OLS Regression Results                            \n==============================================================================\nDep. Variable:                    GPA   R-squared:                       0.262\nModel:                            OLS   Adj. R-squared:                  0.250\nMethod:                 Least Squares   F-statistic:                     20.62\nDate:                Sun, 26 Feb 2023   Prob (F-statistic):           2.88e-05\nTime:                        16:53:19   Log-Likelihood:                 10.515\nNo. Observations:                  60   AIC:                            -17.03\nDf Residuals:                      58   BIC:                            -12.84\nDf Model:                           1                                         \nCovariance Type:            nonrobust                                         \n==============================================================================\n                 coef    std err          t      P>|t|      [0.025      0.975]\n------------------------------------------------------------------------------\nconst          0.8895      0.514      1.731      0.089      -0.139       1.918\nSAT            0.0013      0.000      4.541      0.000       0.001       0.002\n==============================================================================\nOmnibus:                       17.939   Durbin-Watson:                   0.675\nProb(Omnibus):                  0.000   Jarque-Bera (JB):               25.193\nSkew:                          -1.107   Prob(JB):                     3.38e-06\nKurtosis:                       5.276   Cond. No.                     3.50e+04\n==============================================================================\n\nNotes:\n[1] Standard Errors assume that the covariance matrix of the errors is correctly specified.\n[2] The condition number is large, 3.5e+04. This might indicate that there are\nstrong multicollinearity or other numerical problems.\n\"\"\"",
      "text/html": "<table class=\"simpletable\">\n<caption>OLS Regression Results</caption>\n<tr>\n  <th>Dep. Variable:</th>           <td>GPA</td>       <th>  R-squared:         </th> <td>   0.262</td>\n</tr>\n<tr>\n  <th>Model:</th>                   <td>OLS</td>       <th>  Adj. R-squared:    </th> <td>   0.250</td>\n</tr>\n<tr>\n  <th>Method:</th>             <td>Least Squares</td>  <th>  F-statistic:       </th> <td>   20.62</td>\n</tr>\n<tr>\n  <th>Date:</th>             <td>Sun, 26 Feb 2023</td> <th>  Prob (F-statistic):</th> <td>2.88e-05</td>\n</tr>\n<tr>\n  <th>Time:</th>                 <td>16:53:19</td>     <th>  Log-Likelihood:    </th> <td>  10.515</td>\n</tr>\n<tr>\n  <th>No. Observations:</th>      <td>    60</td>      <th>  AIC:               </th> <td>  -17.03</td>\n</tr>\n<tr>\n  <th>Df Residuals:</th>          <td>    58</td>      <th>  BIC:               </th> <td>  -12.84</td>\n</tr>\n<tr>\n  <th>Df Model:</th>              <td>     1</td>      <th>                     </th>     <td> </td>   \n</tr>\n<tr>\n  <th>Covariance Type:</th>      <td>nonrobust</td>    <th>                     </th>     <td> </td>   \n</tr>\n</table>\n<table class=\"simpletable\">\n<tr>\n    <td></td>       <th>coef</th>     <th>std err</th>      <th>t</th>      <th>P>|t|</th>  <th>[0.025</th>    <th>0.975]</th>  \n</tr>\n<tr>\n  <th>const</th> <td>    0.8895</td> <td>    0.514</td> <td>    1.731</td> <td> 0.089</td> <td>   -0.139</td> <td>    1.918</td>\n</tr>\n<tr>\n  <th>SAT</th>   <td>    0.0013</td> <td>    0.000</td> <td>    4.541</td> <td> 0.000</td> <td>    0.001</td> <td>    0.002</td>\n</tr>\n</table>\n<table class=\"simpletable\">\n<tr>\n  <th>Omnibus:</th>       <td>17.939</td> <th>  Durbin-Watson:     </th> <td>   0.675</td>\n</tr>\n<tr>\n  <th>Prob(Omnibus):</th> <td> 0.000</td> <th>  Jarque-Bera (JB):  </th> <td>  25.193</td>\n</tr>\n<tr>\n  <th>Skew:</th>          <td>-1.107</td> <th>  Prob(JB):          </th> <td>3.38e-06</td>\n</tr>\n<tr>\n  <th>Kurtosis:</th>      <td> 5.276</td> <th>  Cond. No.          </th> <td>3.50e+04</td>\n</tr>\n</table><br/><br/>Notes:<br/>[1] Standard Errors assume that the covariance matrix of the errors is correctly specified.<br/>[2] The condition number is large, 3.5e+04. This might indicate that there are<br/>strong multicollinearity or other numerical problems."
     },
     "execution_count": 44,
     "metadata": {},
     "output_type": "execute_result"
    }
   ],
   "source": [
    "import statsmodels.api as sm\n",
    "import seaborn as sns\n",
    "\n",
    "x1 = sm.add_constant(x_training)\n",
    "model = sm.OLS(y_training, x1)\n",
    "results = model.fit()\n",
    "results.summary()"
   ],
   "metadata": {
    "collapsed": false
   }
  },
  {
   "cell_type": "markdown",
   "source": [
    "As we can see, the coeff are 0.0013 for w1 and 0.8895 for w0."
   ],
   "metadata": {
    "collapsed": false
   }
  },
  {
   "cell_type": "code",
   "execution_count": 48,
   "outputs": [
    {
     "data": {
      "text/plain": "<Figure size 432x288 with 1 Axes>",
      "image/png": "[encoded data removed]"
     },
     "metadata": {},
     "output_type": "display_data"
    }
   ],
   "source": [
    "#our equation:\n",
    "plt.scatter(x_training, y_training)\n",
    "y_new = 0.8895 + 0.0013 * x_training\n",
    "plt.plot(x_training, y_new, 'r--', lw=3, label = 'regression line')\n",
    "plt.scatter(x_validation, y_validation)\n",
    "plt.xlabel('SAT', fontsize = 20)\n",
    "plt.ylabel('GPA', fontsize = 20)\n",
    "plt.show()"
   ],
   "metadata": {
    "collapsed": false
   }
  },
  {
   "cell_type": "markdown",
   "source": [
    "# Regression with SKLearn"
   ],
   "metadata": {
    "collapsed": false
   }
  },
  {
   "cell_type": "code",
   "execution_count": 46,
   "outputs": [
    {
     "name": "stdout",
     "output_type": "stream",
     "text": [
      "[[0.0012857]]\n",
      "[0.88948508]\n",
      "Tong binh phuong sai so:  1.6786863438378654\n"
     ]
    },
    {
     "data": {
      "text/plain": "<Figure size 432x288 with 1 Axes>",
      "image/png": "[encoded data removed]"
     },
     "metadata": {},
     "output_type": "display_data"
    }
   ],
   "source": [
    "from sklearn.linear_model import LinearRegression\n",
    "\n",
    "model = LinearRegression()\n",
    "x_training = np.array(x_training).reshape(-1, 1)\n",
    "y_training = np.array(y_training).reshape(-1, 1)\n",
    "results = model.fit(x_training, y_training)\n",
    "\n",
    "y_validation = np.array(y_validation).reshape(-1, 1)\n",
    "x_validation = np.array(x_validation).reshape(-1, 1)\n",
    "\n",
    "print(results.coef_)\n",
    "\n",
    "print(results.intercept_)\n",
    "\n",
    "y_pred = results.predict(x_validation)\n",
    "\n",
    "mean_squared_err = ((y_pred - y_validation)**2).sum()\n",
    "print('Tong binh phuong sai so: ', mean_squared_err)\n",
    "\n",
    "\n",
    "plt.scatter(x,y)                     ## Plotting the points\n",
    "y_new = 0.0012857*x + 0.88948505            ## Defining the equation and\n",
    "plt.plot(x,y_new, 'r--',lw=3, label='regression line') ## Plotting the line, x is the same for both,\n",
    "## but y_new is the lines predicted by the equation\n",
    "plt.xlabel('SAT', fontsize=20)       ## Defining the x-label name\n",
    "plt.ylabel('GPA', fontsize=20)       ## Defining the y-label name\n",
    "plt.show()                           ## Showing the plot, this line will remove, unnecessary text at the top of the graph"
   ],
   "metadata": {
    "collapsed": false
   }
  },
  {
   "cell_type": "markdown",
   "source": [
    "# Bai 2:\n",
    "Trong y sinh học, bề dày lớp nội trung mạc (NTM) phản ánh một số bệnh lý\n",
    "của cơ thể. Thực tế hiện tượng dày lớp NTM động mạch cảnh do nhiều yếu tố như di truyền, chủng\n",
    "tộc, mắc bệnh tim mạch, tuổi, giới, BMI, tăng huyết áp, đái tháo đường.... cùng tác động. Trong ví\n",
    "dụ này ta không đề cập các yếu tố di truyền, chủng tộc, giới, mắc bệnh tim mạch... mà chỉ lưu ý đến\n",
    "các biến số như: tuổi, cholesterol, glucose, huyết áp tâm thu và BMI tác động lên độ dày NTM.\n",
    "Hãy dùng dữ liệu cho trong tệp vidu4_lin_reg.txt (tệp văn bản) để xây dựng mô hình hồi quy tuyến\n",
    "tính cho thấy sự phụ thuộc của bề dày lớp NTM theo các biến số khác. Tham khảo phần đọc dữ liệu\n",
    "từ tệp văn bản đã có trong ví dụ trước. Các trường dữ liệu gồm:\n",
    "ID Mã bệnh nhân\n",
    "TUOI Tuổi\n",
    "\n",
    "BIM chỉ số khối lượng cơ thể (Body Mass Index)\n",
    "HA huyến áp tâm thu\n",
    "GLUCOSE đường huyết\n",
    "CHOLESTEROL độ Cholesterol trong máu\n",
    "BEDAYNTM độ dày NTM\n",
    "Mô hình cần xây dựng có dạng:\n",
    "Bề dày NTM= 0 + 1(tuổi) + 2(cholesterol) + 3(glucose) + 4(huyết áp TT) + 5(BMI)\n",
    "a) Xác định các hệ số với 100 dữ liệu trên\n",
    "b) Chia dữ liệu thành: 80 dòng đầu dùng cho training; 20 dòng sau dùng cho testing. Tính lại các hệ số\n",
    "với bộ dữ liệu này, sau đó chạy thử trên bộ dữ liệu test và tính các đại lượng kỳ vọng, phương sai của\n",
    "sai số."
   ],
   "metadata": {
    "collapsed": false
   }
  },
  {
   "cell_type": "markdown",
   "source": [
    "## a)"
   ],
   "metadata": {
    "collapsed": false
   }
  },
  {
   "cell_type": "code",
   "execution_count": 2,
   "outputs": [],
   "source": [
    "import math\n",
    "import numpy as np\n",
    "with open('vidu4_lin_reg.txt') as f:\n",
    "    lines = f.readlines()\n",
    "\n",
    "    x_data = []\n",
    "    y_data = []\n",
    "    lines.pop(0)\n",
    "\n",
    "    for line in lines:\n",
    "        splitted = line.split(' ')\n",
    "        splitted = list(map(float, splitted))\n",
    "        y_data.append([splitted[-1]])\n",
    "        x_data.append([splitted[1], splitted[5], splitted[4], splitted[3], splitted[2]])\n",
    "\n",
    "    x_data = np.asarray(x_data)\n",
    "    y_data = np.asarray(y_data)"
   ],
   "metadata": {
    "collapsed": false
   }
  },
  {
   "cell_type": "code",
   "execution_count": 3,
   "outputs": [],
   "source": [
    "from sklearn.linear_model import LinearRegression\n",
    "\n",
    "model = LinearRegression()\n",
    "results = model.fit(x_data, y_data)"
   ],
   "metadata": {
    "collapsed": false
   }
  },
  {
   "cell_type": "code",
   "execution_count": 4,
   "outputs": [
    {
     "data": {
      "text/plain": "array([[ 0.00994694,  0.03847025,  0.0076701 ,  0.00218137, -0.00020655]])"
     },
     "execution_count": 4,
     "metadata": {},
     "output_type": "execute_result"
    }
   ],
   "source": [
    "results.coef_"
   ],
   "metadata": {
    "collapsed": false
   }
  },
  {
   "cell_type": "code",
   "execution_count": 5,
   "outputs": [
    {
     "data": {
      "text/plain": "array([-0.10802908])"
     },
     "execution_count": 5,
     "metadata": {},
     "output_type": "execute_result"
    }
   ],
   "source": [
    "results.intercept_"
   ],
   "metadata": {
    "collapsed": false
   }
  },
  {
   "cell_type": "markdown",
   "source": [
    "## b)\n"
   ],
   "metadata": {
    "collapsed": false
   }
  },
  {
   "cell_type": "code",
   "execution_count": 7,
   "outputs": [],
   "source": [
    "x_training = x_data[:80]\n",
    "y_training = y_data[:80]"
   ],
   "metadata": {
    "collapsed": false
   }
  },
  {
   "cell_type": "code",
   "execution_count": 11,
   "outputs": [],
   "source": [
    "x_testing = x_data[80:]\n",
    "y_testing = y_data[80:]"
   ],
   "metadata": {
    "collapsed": false
   }
  },
  {
   "cell_type": "code",
   "execution_count": 12,
   "outputs": [],
   "source": [
    "training_results = model.fit(x_training, y_training)"
   ],
   "metadata": {
    "collapsed": false
   }
  },
  {
   "cell_type": "code",
   "execution_count": 13,
   "outputs": [
    {
     "data": {
      "text/plain": "array([[ 0.0089892 ,  0.00708535,  0.00808634,  0.00260218, -0.00047742]])"
     },
     "execution_count": 13,
     "metadata": {},
     "output_type": "execute_result"
    }
   ],
   "source": [
    "training_results.coef_"
   ],
   "metadata": {
    "collapsed": false
   }
  },
  {
   "cell_type": "code",
   "execution_count": 14,
   "outputs": [
    {
     "data": {
      "text/plain": "array([0.04306436])"
     },
     "execution_count": 14,
     "metadata": {},
     "output_type": "execute_result"
    }
   ],
   "source": [
    "training_results.intercept_"
   ],
   "metadata": {
    "collapsed": false
   }
  },
  {
   "cell_type": "code",
   "execution_count": 15,
   "outputs": [],
   "source": [
    "y_pred = training_results.predict(x_testing)\n"
   ],
   "metadata": {
    "collapsed": false
   }
  }
 ],
 "metadata": {
  "kernelspec": {
   "display_name": "Python 3",
   "language": "python",
   "name": "python3"
  },
  "language_info": {
   "codemirror_mode": {
    "name": "ipython",
    "version": 2
   },
   "file_extension": ".py",
   "mimetype": "text/x-python",
   "name": "python",
   "nbconvert_exporter": "python",
   "pygments_lexer": "ipython2",
   "version": "2.7.6"
  }
 },
 "nbformat": 4,
 "nbformat_minor": 0
}

{
 "cells": [
  {
   "cell_type": "code",
   "execution_count": 3,
   "metadata": {
    "collapsed": true
   },
   "outputs": [],
   "source": [
    "import numpy as np\n",
    "import pandas as pd"
   ]
  },
  {
   "cell_type": "code",
   "execution_count": 28,
   "outputs": [],
   "source": [
    "with open ('D:/Machine Learning/classroom/week2/vidu4_lin_reg.txt') as f:\n",
    "    content = f.readlines()\n",
    "\n",
    "content = [x.strip() for x in content]"
   ],
   "metadata": {
    "collapsed": false
   }
  },
  {
   "cell_type": "code",
   "execution_count": 29,
   "outputs": [
    {
     "data": {
      "text/plain": "['ID TUOI BMI HA GLUCOSE CHOLESTEROL BEDAYNTM',\n '1 56 21 160 14.0 6.00 1.95',\n '2 76 18 150 12.0 4.97 1.33',\n '3 63 16 160 4.4 6.39 .83',\n '4 78 20 100 4.0 7.00 2.00',\n '5 87 20 110 4.6 4.10 1.30',\n '6 76 19 150 4.6 2.74 1.16',\n '7 55 31 160 5.5 4.60 1.00',\n '8 74 22 100 6.8 5.04 1.00',\n '9 81 21 120 5.8 4.75 .80',\n '10 77 24 160 5.4 6.94 1.60',\n '11 29 20 120 3.8 4.84 .65',\n '12 71 22 160 3.3 6.63 1.00',\n '13 77 21 160 5.1 4.93 .97',\n '14 59 18 150 6.0 4.55 .73',\n '15 58 27 130 6.9 6.70 1.10',\n '16 34 19 130 4.5 3.20 1.10',\n '17 74 22 100 10.6 4.30 1.10',\n '18 61 19 170 18.0 6.80 .80',\n '19 53 20 130 25.0 5.50 .99',\n '20 65 28 140 6.5 6.80 1.00',\n '21 80 19 160 4.8 5.74 1.13',\n '22 71 25 160 6.2 6.90 1.00',\n '23 90 24 160 4.7 7.00 1.70',\n '24 44 24 120 6.0 3.40 .90',\n '25 91 27 150 6.1 4.92 .89',\n '26 75 22 160 6.2 6.08 .80',\n '27 60 24 140 4.7 6.25 .81',\n '28 51 22 150 4.8 5.40 1.20',\n '29 91 29 120 4.2 6.54 .82',\n '30 45 24 170 4.9 3.91 .89',\n '31 62 24 140 5.4 5.30 1.19',\n '32 65 19 150 12.0 2.60 .97',\n '33 70 22 160 3.6 6.85 .97',\n '34 56 27 150 5.7 3.75 .97',\n '35 51 19 120 4.7 5.84 .88',\n '36 75 18 140 10.1 6.91 .97',\n '37 58 32 160 4.7 5.01 .90',\n '38 61 19 160 5.2 4.00 .89',\n '39 72 18 120 22.2 4.88 .80',\n '40 82 25 90 8.2 4.20 1.13',\n '41 95 24 120 11.0 4.47 1.20',\n '42 56 21 160 4.9 6.90 .90',\n '43 36 28 130 4.5 4.71 .81',\n '44 67 18 100 5.5 5.70 .80',\n '45 64 22 130 6.2 3.00 .74',\n '46 81 22 140 5.0 5.06 2.66',\n '47 46 22 160 3.3 4.61 .89',\n '48 56 22 150 4.1 4.15 .79',\n '49 60 24 140 7.1 5.30 .80',\n '50 35 19 120 7.4 4.10 .56',\n '51 55 21 160 5.4 3.00 .80',\n '52 70 20 150 6.2 2.57 1.20',\n '53 64 23 130 5.7 6.78 .82',\n '54 64 19 160 5.9 5.62 .90',\n '55 58 27 160 26.0 8.07 1.00',\n '56 73 23 140 5.6 3.00 1.15',\n '57 41 24 110 10.0 3.31 1.16',\n '58 74 23 100 5.3 4.73 .97',\n '59 21 23 160 5.0 4.00 .80',\n '60 67 25 150 3.5 3.60 1.67',\n '61 57 23 140 6.4 5.30 1.06',\n '62 69 21 120 7.6 6.00 1.10',\n '63 53 34 140 8.1 6.49 .80',\n '64 58 23 160 9.0 7.00 1.70',\n '65 54 29 130 6.4 7.48 .99',\n '66 49 17 130 6.3 5.19 1.16',\n '67 59 22 140 7.0 3.00 .62',\n '68 65 23 150 5.9 6.70 1.00',\n '69 42 22 150 3.9 7.00 .82',\n '70 75 24 100 6.4 6.60 1.00',\n '71 72 21 140 11.0 5.75 1.70',\n '72 82 24 190 18.0 4.70 2.30',\n '73 70 18 160 3.3 4.61 .89',\n '74 42 24 160 6.0 6.30 .97',\n '75 32 19 140 4.0 2.00 .70',\n '76 61 21 140 5.2 2.50 1.10',\n '77 60 26 130 11.3 4.79 1.01',\n '78 76 19 160 5.1 5.31 1.15',\n '79 78 27 120 4.9 3.80 .92',\n '80 71 26 150 6.6 7.13 1.10',\n '81 49 24 140 4.3 5.50 .80',\n '82 36 23 140 4.3 4.20 .70',\n '83 74 21 140 17.0 3.30 1.00',\n '84 53 21 140 5.6 5.90 .80',\n '85 56 19 140 4.1 4.73 .89',\n '86 60 20 160 4.9 3.00 .60',\n '87 83 21 120 7.9 5.88 1.50',\n '88 68 23 130 4.0 5.39 .70',\n '89 69 19 100 4.4 6.15 1.10',\n '90 31 21 120 4.1 3.94 .81',\n '91 34 21 140 6.7 3.83 .70',\n '92 41 20 120 2.7 4.93 .71',\n '93 72 22 160 6.4 7.00 2.70',\n '94 54 22 170 6.2 8.18 1.13',\n '95 54 28 150 4.2 8.16 1.70',\n '96 55 24 160 5.0 7.20 .90',\n '97 76 15 140 3.1 5.24 1.16',\n '98 70 25 180 4.0 4.40 1.00',\n '99 85 21 160 5.2 5.20 .97',\n '100 87 22 130 9.0 5.20 2.30']"
     },
     "execution_count": 29,
     "metadata": {},
     "output_type": "execute_result"
    }
   ],
   "source": [
    "content"
   ],
   "metadata": {
    "collapsed": false
   }
  },
  {
   "cell_type": "code",
   "execution_count": 30,
   "outputs": [],
   "source": [
    "data = np.zeros((102,6),dtype=float)\n",
    "index = 0\n",
    "for i in content:\n",
    "    if not i.startswith(\"I\"):\n",
    "        a = i.split(' ')\n",
    "        data[index,:] = np.array([float(a[1]),float(a[2]),float(a[3]),float(a[4]),float(a[5]),float(a[6])])\n",
    "    index += 1"
   ],
   "metadata": {
    "collapsed": false
   }
  },
  {
   "cell_type": "code",
   "execution_count": 31,
   "outputs": [
    {
     "data": {
      "text/plain": "array([[  0.  ,   0.  ,   0.  ,   0.  ,   0.  ,   0.  ],\n       [ 56.  ,  21.  , 160.  ,  14.  ,   6.  ,   1.95],\n       [ 76.  ,  18.  , 150.  ,  12.  ,   4.97,   1.33],\n       [ 63.  ,  16.  , 160.  ,   4.4 ,   6.39,   0.83],\n       [ 78.  ,  20.  , 100.  ,   4.  ,   7.  ,   2.  ],\n       [ 87.  ,  20.  , 110.  ,   4.6 ,   4.1 ,   1.3 ],\n       [ 76.  ,  19.  , 150.  ,   4.6 ,   2.74,   1.16],\n       [ 55.  ,  31.  , 160.  ,   5.5 ,   4.6 ,   1.  ],\n       [ 74.  ,  22.  , 100.  ,   6.8 ,   5.04,   1.  ],\n       [ 81.  ,  21.  , 120.  ,   5.8 ,   4.75,   0.8 ],\n       [ 77.  ,  24.  , 160.  ,   5.4 ,   6.94,   1.6 ],\n       [ 29.  ,  20.  , 120.  ,   3.8 ,   4.84,   0.65],\n       [ 71.  ,  22.  , 160.  ,   3.3 ,   6.63,   1.  ],\n       [ 77.  ,  21.  , 160.  ,   5.1 ,   4.93,   0.97],\n       [ 59.  ,  18.  , 150.  ,   6.  ,   4.55,   0.73],\n       [ 58.  ,  27.  , 130.  ,   6.9 ,   6.7 ,   1.1 ],\n       [ 34.  ,  19.  , 130.  ,   4.5 ,   3.2 ,   1.1 ],\n       [ 74.  ,  22.  , 100.  ,  10.6 ,   4.3 ,   1.1 ],\n       [ 61.  ,  19.  , 170.  ,  18.  ,   6.8 ,   0.8 ],\n       [ 53.  ,  20.  , 130.  ,  25.  ,   5.5 ,   0.99],\n       [ 65.  ,  28.  , 140.  ,   6.5 ,   6.8 ,   1.  ],\n       [ 80.  ,  19.  , 160.  ,   4.8 ,   5.74,   1.13],\n       [ 71.  ,  25.  , 160.  ,   6.2 ,   6.9 ,   1.  ],\n       [ 90.  ,  24.  , 160.  ,   4.7 ,   7.  ,   1.7 ],\n       [ 44.  ,  24.  , 120.  ,   6.  ,   3.4 ,   0.9 ],\n       [ 91.  ,  27.  , 150.  ,   6.1 ,   4.92,   0.89],\n       [ 75.  ,  22.  , 160.  ,   6.2 ,   6.08,   0.8 ],\n       [ 60.  ,  24.  , 140.  ,   4.7 ,   6.25,   0.81],\n       [ 51.  ,  22.  , 150.  ,   4.8 ,   5.4 ,   1.2 ],\n       [ 91.  ,  29.  , 120.  ,   4.2 ,   6.54,   0.82],\n       [ 45.  ,  24.  , 170.  ,   4.9 ,   3.91,   0.89],\n       [ 62.  ,  24.  , 140.  ,   5.4 ,   5.3 ,   1.19],\n       [ 65.  ,  19.  , 150.  ,  12.  ,   2.6 ,   0.97],\n       [ 70.  ,  22.  , 160.  ,   3.6 ,   6.85,   0.97],\n       [ 56.  ,  27.  , 150.  ,   5.7 ,   3.75,   0.97],\n       [ 51.  ,  19.  , 120.  ,   4.7 ,   5.84,   0.88],\n       [ 75.  ,  18.  , 140.  ,  10.1 ,   6.91,   0.97],\n       [ 58.  ,  32.  , 160.  ,   4.7 ,   5.01,   0.9 ],\n       [ 61.  ,  19.  , 160.  ,   5.2 ,   4.  ,   0.89],\n       [ 72.  ,  18.  , 120.  ,  22.2 ,   4.88,   0.8 ],\n       [ 82.  ,  25.  ,  90.  ,   8.2 ,   4.2 ,   1.13],\n       [ 95.  ,  24.  , 120.  ,  11.  ,   4.47,   1.2 ],\n       [ 56.  ,  21.  , 160.  ,   4.9 ,   6.9 ,   0.9 ],\n       [ 36.  ,  28.  , 130.  ,   4.5 ,   4.71,   0.81],\n       [ 67.  ,  18.  , 100.  ,   5.5 ,   5.7 ,   0.8 ],\n       [ 64.  ,  22.  , 130.  ,   6.2 ,   3.  ,   0.74],\n       [ 81.  ,  22.  , 140.  ,   5.  ,   5.06,   2.66],\n       [ 46.  ,  22.  , 160.  ,   3.3 ,   4.61,   0.89],\n       [ 56.  ,  22.  , 150.  ,   4.1 ,   4.15,   0.79],\n       [ 60.  ,  24.  , 140.  ,   7.1 ,   5.3 ,   0.8 ],\n       [ 35.  ,  19.  , 120.  ,   7.4 ,   4.1 ,   0.56],\n       [ 55.  ,  21.  , 160.  ,   5.4 ,   3.  ,   0.8 ],\n       [ 70.  ,  20.  , 150.  ,   6.2 ,   2.57,   1.2 ],\n       [ 64.  ,  23.  , 130.  ,   5.7 ,   6.78,   0.82],\n       [ 64.  ,  19.  , 160.  ,   5.9 ,   5.62,   0.9 ],\n       [ 58.  ,  27.  , 160.  ,  26.  ,   8.07,   1.  ],\n       [ 73.  ,  23.  , 140.  ,   5.6 ,   3.  ,   1.15],\n       [ 41.  ,  24.  , 110.  ,  10.  ,   3.31,   1.16],\n       [ 74.  ,  23.  , 100.  ,   5.3 ,   4.73,   0.97],\n       [ 21.  ,  23.  , 160.  ,   5.  ,   4.  ,   0.8 ],\n       [ 67.  ,  25.  , 150.  ,   3.5 ,   3.6 ,   1.67],\n       [ 57.  ,  23.  , 140.  ,   6.4 ,   5.3 ,   1.06],\n       [ 69.  ,  21.  , 120.  ,   7.6 ,   6.  ,   1.1 ],\n       [ 53.  ,  34.  , 140.  ,   8.1 ,   6.49,   0.8 ],\n       [ 58.  ,  23.  , 160.  ,   9.  ,   7.  ,   1.7 ],\n       [ 54.  ,  29.  , 130.  ,   6.4 ,   7.48,   0.99],\n       [ 49.  ,  17.  , 130.  ,   6.3 ,   5.19,   1.16],\n       [ 59.  ,  22.  , 140.  ,   7.  ,   3.  ,   0.62],\n       [ 65.  ,  23.  , 150.  ,   5.9 ,   6.7 ,   1.  ],\n       [ 42.  ,  22.  , 150.  ,   3.9 ,   7.  ,   0.82],\n       [ 75.  ,  24.  , 100.  ,   6.4 ,   6.6 ,   1.  ],\n       [ 72.  ,  21.  , 140.  ,  11.  ,   5.75,   1.7 ],\n       [ 82.  ,  24.  , 190.  ,  18.  ,   4.7 ,   2.3 ],\n       [ 70.  ,  18.  , 160.  ,   3.3 ,   4.61,   0.89],\n       [ 42.  ,  24.  , 160.  ,   6.  ,   6.3 ,   0.97],\n       [ 32.  ,  19.  , 140.  ,   4.  ,   2.  ,   0.7 ],\n       [ 61.  ,  21.  , 140.  ,   5.2 ,   2.5 ,   1.1 ],\n       [ 60.  ,  26.  , 130.  ,  11.3 ,   4.79,   1.01],\n       [ 76.  ,  19.  , 160.  ,   5.1 ,   5.31,   1.15],\n       [ 78.  ,  27.  , 120.  ,   4.9 ,   3.8 ,   0.92],\n       [ 71.  ,  26.  , 150.  ,   6.6 ,   7.13,   1.1 ],\n       [ 49.  ,  24.  , 140.  ,   4.3 ,   5.5 ,   0.8 ],\n       [ 36.  ,  23.  , 140.  ,   4.3 ,   4.2 ,   0.7 ],\n       [ 74.  ,  21.  , 140.  ,  17.  ,   3.3 ,   1.  ],\n       [ 53.  ,  21.  , 140.  ,   5.6 ,   5.9 ,   0.8 ],\n       [ 56.  ,  19.  , 140.  ,   4.1 ,   4.73,   0.89],\n       [ 60.  ,  20.  , 160.  ,   4.9 ,   3.  ,   0.6 ],\n       [ 83.  ,  21.  , 120.  ,   7.9 ,   5.88,   1.5 ],\n       [ 68.  ,  23.  , 130.  ,   4.  ,   5.39,   0.7 ],\n       [ 69.  ,  19.  , 100.  ,   4.4 ,   6.15,   1.1 ],\n       [ 31.  ,  21.  , 120.  ,   4.1 ,   3.94,   0.81],\n       [ 34.  ,  21.  , 140.  ,   6.7 ,   3.83,   0.7 ],\n       [ 41.  ,  20.  , 120.  ,   2.7 ,   4.93,   0.71],\n       [ 72.  ,  22.  , 160.  ,   6.4 ,   7.  ,   2.7 ],\n       [ 54.  ,  22.  , 170.  ,   6.2 ,   8.18,   1.13],\n       [ 54.  ,  28.  , 150.  ,   4.2 ,   8.16,   1.7 ],\n       [ 55.  ,  24.  , 160.  ,   5.  ,   7.2 ,   0.9 ],\n       [ 76.  ,  15.  , 140.  ,   3.1 ,   5.24,   1.16],\n       [ 70.  ,  25.  , 180.  ,   4.  ,   4.4 ,   1.  ],\n       [ 85.  ,  21.  , 160.  ,   5.2 ,   5.2 ,   0.97],\n       [ 87.  ,  22.  , 130.  ,   9.  ,   5.2 ,   2.3 ],\n       [  0.  ,   0.  ,   0.  ,   0.  ,   0.  ,   0.  ]])"
     },
     "execution_count": 31,
     "metadata": {},
     "output_type": "execute_result"
    }
   ],
   "source": [
    "data\n"
   ],
   "metadata": {
    "collapsed": false
   }
  },
  {
   "cell_type": "code",
   "execution_count": 32,
   "outputs": [],
   "source": [
    "def deleteZeroRow(array):\n",
    "    row_sums = array.sum(axis=1)\n",
    "    zero_sum_rows = np.where(row_sums == 0)[0]\n",
    "    array = np.delete(array, zero_sum_rows, axis=0)\n",
    "    return array"
   ],
   "metadata": {
    "collapsed": false
   }
  },
  {
   "cell_type": "code",
   "execution_count": 33,
   "outputs": [],
   "source": [
    "data = deleteZeroRow(data)"
   ],
   "metadata": {
    "collapsed": false
   }
  },
  {
   "cell_type": "code",
   "execution_count": 34,
   "outputs": [
    {
     "data": {
      "text/plain": "array([[ 56.  ,  21.  , 160.  ,  14.  ,   6.  ,   1.95],\n       [ 76.  ,  18.  , 150.  ,  12.  ,   4.97,   1.33],\n       [ 63.  ,  16.  , 160.  ,   4.4 ,   6.39,   0.83],\n       [ 78.  ,  20.  , 100.  ,   4.  ,   7.  ,   2.  ],\n       [ 87.  ,  20.  , 110.  ,   4.6 ,   4.1 ,   1.3 ],\n       [ 76.  ,  19.  , 150.  ,   4.6 ,   2.74,   1.16],\n       [ 55.  ,  31.  , 160.  ,   5.5 ,   4.6 ,   1.  ],\n       [ 74.  ,  22.  , 100.  ,   6.8 ,   5.04,   1.  ],\n       [ 81.  ,  21.  , 120.  ,   5.8 ,   4.75,   0.8 ],\n       [ 77.  ,  24.  , 160.  ,   5.4 ,   6.94,   1.6 ],\n       [ 29.  ,  20.  , 120.  ,   3.8 ,   4.84,   0.65],\n       [ 71.  ,  22.  , 160.  ,   3.3 ,   6.63,   1.  ],\n       [ 77.  ,  21.  , 160.  ,   5.1 ,   4.93,   0.97],\n       [ 59.  ,  18.  , 150.  ,   6.  ,   4.55,   0.73],\n       [ 58.  ,  27.  , 130.  ,   6.9 ,   6.7 ,   1.1 ],\n       [ 34.  ,  19.  , 130.  ,   4.5 ,   3.2 ,   1.1 ],\n       [ 74.  ,  22.  , 100.  ,  10.6 ,   4.3 ,   1.1 ],\n       [ 61.  ,  19.  , 170.  ,  18.  ,   6.8 ,   0.8 ],\n       [ 53.  ,  20.  , 130.  ,  25.  ,   5.5 ,   0.99],\n       [ 65.  ,  28.  , 140.  ,   6.5 ,   6.8 ,   1.  ],\n       [ 80.  ,  19.  , 160.  ,   4.8 ,   5.74,   1.13],\n       [ 71.  ,  25.  , 160.  ,   6.2 ,   6.9 ,   1.  ],\n       [ 90.  ,  24.  , 160.  ,   4.7 ,   7.  ,   1.7 ],\n       [ 44.  ,  24.  , 120.  ,   6.  ,   3.4 ,   0.9 ],\n       [ 91.  ,  27.  , 150.  ,   6.1 ,   4.92,   0.89],\n       [ 75.  ,  22.  , 160.  ,   6.2 ,   6.08,   0.8 ],\n       [ 60.  ,  24.  , 140.  ,   4.7 ,   6.25,   0.81],\n       [ 51.  ,  22.  , 150.  ,   4.8 ,   5.4 ,   1.2 ],\n       [ 91.  ,  29.  , 120.  ,   4.2 ,   6.54,   0.82],\n       [ 45.  ,  24.  , 170.  ,   4.9 ,   3.91,   0.89],\n       [ 62.  ,  24.  , 140.  ,   5.4 ,   5.3 ,   1.19],\n       [ 65.  ,  19.  , 150.  ,  12.  ,   2.6 ,   0.97],\n       [ 70.  ,  22.  , 160.  ,   3.6 ,   6.85,   0.97],\n       [ 56.  ,  27.  , 150.  ,   5.7 ,   3.75,   0.97],\n       [ 51.  ,  19.  , 120.  ,   4.7 ,   5.84,   0.88],\n       [ 75.  ,  18.  , 140.  ,  10.1 ,   6.91,   0.97],\n       [ 58.  ,  32.  , 160.  ,   4.7 ,   5.01,   0.9 ],\n       [ 61.  ,  19.  , 160.  ,   5.2 ,   4.  ,   0.89],\n       [ 72.  ,  18.  , 120.  ,  22.2 ,   4.88,   0.8 ],\n       [ 82.  ,  25.  ,  90.  ,   8.2 ,   4.2 ,   1.13],\n       [ 95.  ,  24.  , 120.  ,  11.  ,   4.47,   1.2 ],\n       [ 56.  ,  21.  , 160.  ,   4.9 ,   6.9 ,   0.9 ],\n       [ 36.  ,  28.  , 130.  ,   4.5 ,   4.71,   0.81],\n       [ 67.  ,  18.  , 100.  ,   5.5 ,   5.7 ,   0.8 ],\n       [ 64.  ,  22.  , 130.  ,   6.2 ,   3.  ,   0.74],\n       [ 81.  ,  22.  , 140.  ,   5.  ,   5.06,   2.66],\n       [ 46.  ,  22.  , 160.  ,   3.3 ,   4.61,   0.89],\n       [ 56.  ,  22.  , 150.  ,   4.1 ,   4.15,   0.79],\n       [ 60.  ,  24.  , 140.  ,   7.1 ,   5.3 ,   0.8 ],\n       [ 35.  ,  19.  , 120.  ,   7.4 ,   4.1 ,   0.56],\n       [ 55.  ,  21.  , 160.  ,   5.4 ,   3.  ,   0.8 ],\n       [ 70.  ,  20.  , 150.  ,   6.2 ,   2.57,   1.2 ],\n       [ 64.  ,  23.  , 130.  ,   5.7 ,   6.78,   0.82],\n       [ 64.  ,  19.  , 160.  ,   5.9 ,   5.62,   0.9 ],\n       [ 58.  ,  27.  , 160.  ,  26.  ,   8.07,   1.  ],\n       [ 73.  ,  23.  , 140.  ,   5.6 ,   3.  ,   1.15],\n       [ 41.  ,  24.  , 110.  ,  10.  ,   3.31,   1.16],\n       [ 74.  ,  23.  , 100.  ,   5.3 ,   4.73,   0.97],\n       [ 21.  ,  23.  , 160.  ,   5.  ,   4.  ,   0.8 ],\n       [ 67.  ,  25.  , 150.  ,   3.5 ,   3.6 ,   1.67],\n       [ 57.  ,  23.  , 140.  ,   6.4 ,   5.3 ,   1.06],\n       [ 69.  ,  21.  , 120.  ,   7.6 ,   6.  ,   1.1 ],\n       [ 53.  ,  34.  , 140.  ,   8.1 ,   6.49,   0.8 ],\n       [ 58.  ,  23.  , 160.  ,   9.  ,   7.  ,   1.7 ],\n       [ 54.  ,  29.  , 130.  ,   6.4 ,   7.48,   0.99],\n       [ 49.  ,  17.  , 130.  ,   6.3 ,   5.19,   1.16],\n       [ 59.  ,  22.  , 140.  ,   7.  ,   3.  ,   0.62],\n       [ 65.  ,  23.  , 150.  ,   5.9 ,   6.7 ,   1.  ],\n       [ 42.  ,  22.  , 150.  ,   3.9 ,   7.  ,   0.82],\n       [ 75.  ,  24.  , 100.  ,   6.4 ,   6.6 ,   1.  ],\n       [ 72.  ,  21.  , 140.  ,  11.  ,   5.75,   1.7 ],\n       [ 82.  ,  24.  , 190.  ,  18.  ,   4.7 ,   2.3 ],\n       [ 70.  ,  18.  , 160.  ,   3.3 ,   4.61,   0.89],\n       [ 42.  ,  24.  , 160.  ,   6.  ,   6.3 ,   0.97],\n       [ 32.  ,  19.  , 140.  ,   4.  ,   2.  ,   0.7 ],\n       [ 61.  ,  21.  , 140.  ,   5.2 ,   2.5 ,   1.1 ],\n       [ 60.  ,  26.  , 130.  ,  11.3 ,   4.79,   1.01],\n       [ 76.  ,  19.  , 160.  ,   5.1 ,   5.31,   1.15],\n       [ 78.  ,  27.  , 120.  ,   4.9 ,   3.8 ,   0.92],\n       [ 71.  ,  26.  , 150.  ,   6.6 ,   7.13,   1.1 ],\n       [ 49.  ,  24.  , 140.  ,   4.3 ,   5.5 ,   0.8 ],\n       [ 36.  ,  23.  , 140.  ,   4.3 ,   4.2 ,   0.7 ],\n       [ 74.  ,  21.  , 140.  ,  17.  ,   3.3 ,   1.  ],\n       [ 53.  ,  21.  , 140.  ,   5.6 ,   5.9 ,   0.8 ],\n       [ 56.  ,  19.  , 140.  ,   4.1 ,   4.73,   0.89],\n       [ 60.  ,  20.  , 160.  ,   4.9 ,   3.  ,   0.6 ],\n       [ 83.  ,  21.  , 120.  ,   7.9 ,   5.88,   1.5 ],\n       [ 68.  ,  23.  , 130.  ,   4.  ,   5.39,   0.7 ],\n       [ 69.  ,  19.  , 100.  ,   4.4 ,   6.15,   1.1 ],\n       [ 31.  ,  21.  , 120.  ,   4.1 ,   3.94,   0.81],\n       [ 34.  ,  21.  , 140.  ,   6.7 ,   3.83,   0.7 ],\n       [ 41.  ,  20.  , 120.  ,   2.7 ,   4.93,   0.71],\n       [ 72.  ,  22.  , 160.  ,   6.4 ,   7.  ,   2.7 ],\n       [ 54.  ,  22.  , 170.  ,   6.2 ,   8.18,   1.13],\n       [ 54.  ,  28.  , 150.  ,   4.2 ,   8.16,   1.7 ],\n       [ 55.  ,  24.  , 160.  ,   5.  ,   7.2 ,   0.9 ],\n       [ 76.  ,  15.  , 140.  ,   3.1 ,   5.24,   1.16],\n       [ 70.  ,  25.  , 180.  ,   4.  ,   4.4 ,   1.  ],\n       [ 85.  ,  21.  , 160.  ,   5.2 ,   5.2 ,   0.97],\n       [ 87.  ,  22.  , 130.  ,   9.  ,   5.2 ,   2.3 ]])"
     },
     "execution_count": 34,
     "metadata": {},
     "output_type": "execute_result"
    }
   ],
   "source": [
    "data"
   ],
   "metadata": {
    "collapsed": false
   }
  },
  {
   "cell_type": "code",
   "execution_count": 10,
   "outputs": [],
   "source": [
    "headers = ['tuoi','bmi','ha','glucose','cholesterol','bedayntm']\n",
    "df = pd.DataFrame(data,columns=headers)"
   ],
   "metadata": {
    "collapsed": false
   }
  },
  {
   "cell_type": "code",
   "execution_count": 11,
   "outputs": [],
   "source": [
    "y = df['bedayntm']\n",
    "x = df[['tuoi','cholesterol','glucose','ha','bmi']]"
   ],
   "metadata": {
    "collapsed": false
   }
  },
  {
   "cell_type": "code",
   "execution_count": 12,
   "outputs": [
    {
     "data": {
      "text/plain": "    tuoi  cholesterol  glucose     ha   bmi\n0   56.0         6.00     14.0  160.0  21.0\n1   76.0         4.97     12.0  150.0  18.0\n2   63.0         6.39      4.4  160.0  16.0\n3   78.0         7.00      4.0  100.0  20.0\n4   87.0         4.10      4.6  110.0  20.0\n..   ...          ...      ...    ...   ...\n95  55.0         7.20      5.0  160.0  24.0\n96  76.0         5.24      3.1  140.0  15.0\n97  70.0         4.40      4.0  180.0  25.0\n98  85.0         5.20      5.2  160.0  21.0\n99  87.0         5.20      9.0  130.0  22.0\n\n[100 rows x 5 columns]",
      "text/html": "<div>\n<style scoped>\n    .dataframe tbody tr th:only-of-type {\n        vertical-align: middle;\n    }\n\n    .dataframe tbody tr th {\n        vertical-align: top;\n    }\n\n    .dataframe thead th {\n        text-align: right;\n    }\n</style>\n<table border=\"1\" class=\"dataframe\">\n  <thead>\n    <tr style=\"text-align: right;\">\n      <th></th>\n      <th>tuoi</th>\n      <th>cholesterol</th>\n      <th>glucose</th>\n      <th>ha</th>\n      <th>bmi</th>\n    </tr>\n  </thead>\n  <tbody>\n    <tr>\n      <th>0</th>\n      <td>56.0</td>\n      <td>6.00</td>\n      <td>14.0</td>\n      <td>160.0</td>\n      <td>21.0</td>\n    </tr>\n    <tr>\n      <th>1</th>\n      <td>76.0</td>\n      <td>4.97</td>\n      <td>12.0</td>\n      <td>150.0</td>\n      <td>18.0</td>\n    </tr>\n    <tr>\n      <th>2</th>\n      <td>63.0</td>\n      <td>6.39</td>\n      <td>4.4</td>\n      <td>160.0</td>\n      <td>16.0</td>\n    </tr>\n    <tr>\n      <th>3</th>\n      <td>78.0</td>\n      <td>7.00</td>\n      <td>4.0</td>\n      <td>100.0</td>\n      <td>20.0</td>\n    </tr>\n    <tr>\n      <th>4</th>\n      <td>87.0</td>\n      <td>4.10</td>\n      <td>4.6</td>\n      <td>110.0</td>\n      <td>20.0</td>\n    </tr>\n    <tr>\n      <th>...</th>\n      <td>...</td>\n      <td>...</td>\n      <td>...</td>\n      <td>...</td>\n      <td>...</td>\n    </tr>\n    <tr>\n      <th>95</th>\n      <td>55.0</td>\n      <td>7.20</td>\n      <td>5.0</td>\n      <td>160.0</td>\n      <td>24.0</td>\n    </tr>\n    <tr>\n      <th>96</th>\n      <td>76.0</td>\n      <td>5.24</td>\n      <td>3.1</td>\n      <td>140.0</td>\n      <td>15.0</td>\n    </tr>\n    <tr>\n      <th>97</th>\n      <td>70.0</td>\n      <td>4.40</td>\n      <td>4.0</td>\n      <td>180.0</td>\n      <td>25.0</td>\n    </tr>\n    <tr>\n      <th>98</th>\n      <td>85.0</td>\n      <td>5.20</td>\n      <td>5.2</td>\n      <td>160.0</td>\n      <td>21.0</td>\n    </tr>\n    <tr>\n      <th>99</th>\n      <td>87.0</td>\n      <td>5.20</td>\n      <td>9.0</td>\n      <td>130.0</td>\n      <td>22.0</td>\n    </tr>\n  </tbody>\n</table>\n<p>100 rows × 5 columns</p>\n</div>"
     },
     "execution_count": 12,
     "metadata": {},
     "output_type": "execute_result"
    }
   ],
   "source": [
    "x"
   ],
   "metadata": {
    "collapsed": false
   }
  },
  {
   "cell_type": "code",
   "execution_count": 13,
   "outputs": [],
   "source": [
    "data = x.to_numpy()\n",
    "label = y.to_numpy()"
   ],
   "metadata": {
    "collapsed": false
   }
  },
  {
   "cell_type": "code",
   "execution_count": 14,
   "outputs": [],
   "source": [
    "from sklearn import linear_model"
   ],
   "metadata": {
    "collapsed": false
   }
  },
  {
   "cell_type": "code",
   "execution_count": 15,
   "outputs": [
    {
     "data": {
      "text/plain": "LinearRegression()",
      "text/html": "<style>#sk-container-id-1 {color: black;background-color: white;}#sk-container-id-1 pre{padding: 0;}#sk-container-id-1 div.sk-toggleable {background-color: white;}#sk-container-id-1 label.sk-toggleable__label {cursor: pointer;display: block;width: 100%;margin-bottom: 0;padding: 0.3em;box-sizing: border-box;text-align: center;}#sk-container-id-1 label.sk-toggleable__label-arrow:before {content: \"▸\";float: left;margin-right: 0.25em;color: #696969;}#sk-container-id-1 label.sk-toggleable__label-arrow:hover:before {color: black;}#sk-container-id-1 div.sk-estimator:hover label.sk-toggleable__label-arrow:before {color: black;}#sk-container-id-1 div.sk-toggleable__content {max-height: 0;max-width: 0;overflow: hidden;text-align: left;background-color: #f0f8ff;}#sk-container-id-1 div.sk-toggleable__content pre {margin: 0.2em;color: black;border-radius: 0.25em;background-color: #f0f8ff;}#sk-container-id-1 input.sk-toggleable__control:checked~div.sk-toggleable__content {max-height: 200px;max-width: 100%;overflow: auto;}#sk-container-id-1 input.sk-toggleable__control:checked~label.sk-toggleable__label-arrow:before {content: \"▾\";}#sk-container-id-1 div.sk-estimator input.sk-toggleable__control:checked~label.sk-toggleable__label {background-color: #d4ebff;}#sk-container-id-1 div.sk-label input.sk-toggleable__control:checked~label.sk-toggleable__label {background-color: #d4ebff;}#sk-container-id-1 input.sk-hidden--visually {border: 0;clip: rect(1px 1px 1px 1px);clip: rect(1px, 1px, 1px, 1px);height: 1px;margin: -1px;overflow: hidden;padding: 0;position: absolute;width: 1px;}#sk-container-id-1 div.sk-estimator {font-family: monospace;background-color: #f0f8ff;border: 1px dotted black;border-radius: 0.25em;box-sizing: border-box;margin-bottom: 0.5em;}#sk-container-id-1 div.sk-estimator:hover {background-color: #d4ebff;}#sk-container-id-1 div.sk-parallel-item::after {content: \"\";width: 100%;border-bottom: 1px solid gray;flex-grow: 1;}#sk-container-id-1 div.sk-label:hover label.sk-toggleable__label {background-color: #d4ebff;}#sk-container-id-1 div.sk-serial::before {content: \"\";position: absolute;border-left: 1px solid gray;box-sizing: border-box;top: 0;bottom: 0;left: 50%;z-index: 0;}#sk-container-id-1 div.sk-serial {display: flex;flex-direction: column;align-items: center;background-color: white;padding-right: 0.2em;padding-left: 0.2em;position: relative;}#sk-container-id-1 div.sk-item {position: relative;z-index: 1;}#sk-container-id-1 div.sk-parallel {display: flex;align-items: stretch;justify-content: center;background-color: white;position: relative;}#sk-container-id-1 div.sk-item::before, #sk-container-id-1 div.sk-parallel-item::before {content: \"\";position: absolute;border-left: 1px solid gray;box-sizing: border-box;top: 0;bottom: 0;left: 50%;z-index: -1;}#sk-container-id-1 div.sk-parallel-item {display: flex;flex-direction: column;z-index: 1;position: relative;background-color: white;}#sk-container-id-1 div.sk-parallel-item:first-child::after {align-self: flex-end;width: 50%;}#sk-container-id-1 div.sk-parallel-item:last-child::after {align-self: flex-start;width: 50%;}#sk-container-id-1 div.sk-parallel-item:only-child::after {width: 0;}#sk-container-id-1 div.sk-dashed-wrapped {border: 1px dashed gray;margin: 0 0.4em 0.5em 0.4em;box-sizing: border-box;padding-bottom: 0.4em;background-color: white;}#sk-container-id-1 div.sk-label label {font-family: monospace;font-weight: bold;display: inline-block;line-height: 1.2em;}#sk-container-id-1 div.sk-label-container {text-align: center;}#sk-container-id-1 div.sk-container {/* jupyter's `normalize.less` sets `[hidden] { display: none; }` but bootstrap.min.css set `[hidden] { display: none !important; }` so we also need the `!important` here to be able to override the default hidden behavior on the sphinx rendered scikit-learn.org. See: https://github.com/scikit-learn/scikit-learn/issues/21755 */display: inline-block !important;position: relative;}#sk-container-id-1 div.sk-text-repr-fallback {display: none;}</style><div id=\"sk-container-id-1\" class=\"sk-top-container\"><div class=\"sk-text-repr-fallback\"><pre>LinearRegression()</pre><b>In a Jupyter environment, please rerun this cell to show the HTML representation or trust the notebook. <br />On GitHub, the HTML representation is unable to render, please try loading this page with nbviewer.org.</b></div><div class=\"sk-container\" hidden><div class=\"sk-item\"><div class=\"sk-estimator sk-toggleable\"><input class=\"sk-toggleable__control sk-hidden--visually\" id=\"sk-estimator-id-1\" type=\"checkbox\" checked><label for=\"sk-estimator-id-1\" class=\"sk-toggleable__label sk-toggleable__label-arrow\">LinearRegression</label><div class=\"sk-toggleable__content\"><pre>LinearRegression()</pre></div></div></div></div></div>"
     },
     "execution_count": 15,
     "metadata": {},
     "output_type": "execute_result"
    }
   ],
   "source": [
    "regr1 = linear_model.LinearRegression(fit_intercept=True)\n",
    "regr1.fit(data,label)\n"
   ],
   "metadata": {
    "collapsed": false
   }
  },
  {
   "cell_type": "code",
   "execution_count": 16,
   "outputs": [
    {
     "name": "stdout",
     "output_type": "stream",
     "text": [
      "[ 0.00994694  0.03847025  0.0076701   0.00218137 -0.00020655]\n"
     ]
    }
   ],
   "source": [
    "print(regr1.coef_)"
   ],
   "metadata": {
    "collapsed": false
   }
  },
  {
   "cell_type": "markdown",
   "source": [
    "# Chia dataset 80:20"
   ],
   "metadata": {
    "collapsed": false
   }
  },
  {
   "cell_type": "code",
   "execution_count": 17,
   "outputs": [],
   "source": [
    "x_train = x.loc[0:79]\n",
    "x_test = x.loc[80:99]\n",
    "y_train = y.loc[0:79]\n",
    "y_test = y.loc[80:99]"
   ],
   "metadata": {
    "collapsed": false
   }
  },
  {
   "cell_type": "code",
   "execution_count": 18,
   "outputs": [
    {
     "data": {
      "text/plain": "    tuoi  cholesterol  glucose     ha   bmi\n0   56.0         6.00     14.0  160.0  21.0\n1   76.0         4.97     12.0  150.0  18.0\n2   63.0         6.39      4.4  160.0  16.0\n3   78.0         7.00      4.0  100.0  20.0\n4   87.0         4.10      4.6  110.0  20.0\n..   ...          ...      ...    ...   ...\n75  61.0         2.50      5.2  140.0  21.0\n76  60.0         4.79     11.3  130.0  26.0\n77  76.0         5.31      5.1  160.0  19.0\n78  78.0         3.80      4.9  120.0  27.0\n79  71.0         7.13      6.6  150.0  26.0\n\n[80 rows x 5 columns]",
      "text/html": "<div>\n<style scoped>\n    .dataframe tbody tr th:only-of-type {\n        vertical-align: middle;\n    }\n\n    .dataframe tbody tr th {\n        vertical-align: top;\n    }\n\n    .dataframe thead th {\n        text-align: right;\n    }\n</style>\n<table border=\"1\" class=\"dataframe\">\n  <thead>\n    <tr style=\"text-align: right;\">\n      <th></th>\n      <th>tuoi</th>\n      <th>cholesterol</th>\n      <th>glucose</th>\n      <th>ha</th>\n      <th>bmi</th>\n    </tr>\n  </thead>\n  <tbody>\n    <tr>\n      <th>0</th>\n      <td>56.0</td>\n      <td>6.00</td>\n      <td>14.0</td>\n      <td>160.0</td>\n      <td>21.0</td>\n    </tr>\n    <tr>\n      <th>1</th>\n      <td>76.0</td>\n      <td>4.97</td>\n      <td>12.0</td>\n      <td>150.0</td>\n      <td>18.0</td>\n    </tr>\n    <tr>\n      <th>2</th>\n      <td>63.0</td>\n      <td>6.39</td>\n      <td>4.4</td>\n      <td>160.0</td>\n      <td>16.0</td>\n    </tr>\n    <tr>\n      <th>3</th>\n      <td>78.0</td>\n      <td>7.00</td>\n      <td>4.0</td>\n      <td>100.0</td>\n      <td>20.0</td>\n    </tr>\n    <tr>\n      <th>4</th>\n      <td>87.0</td>\n      <td>4.10</td>\n      <td>4.6</td>\n      <td>110.0</td>\n      <td>20.0</td>\n    </tr>\n    <tr>\n      <th>...</th>\n      <td>...</td>\n      <td>...</td>\n      <td>...</td>\n      <td>...</td>\n      <td>...</td>\n    </tr>\n    <tr>\n      <th>75</th>\n      <td>61.0</td>\n      <td>2.50</td>\n      <td>5.2</td>\n      <td>140.0</td>\n      <td>21.0</td>\n    </tr>\n    <tr>\n      <th>76</th>\n      <td>60.0</td>\n      <td>4.79</td>\n      <td>11.3</td>\n      <td>130.0</td>\n      <td>26.0</td>\n    </tr>\n    <tr>\n      <th>77</th>\n      <td>76.0</td>\n      <td>5.31</td>\n      <td>5.1</td>\n      <td>160.0</td>\n      <td>19.0</td>\n    </tr>\n    <tr>\n      <th>78</th>\n      <td>78.0</td>\n      <td>3.80</td>\n      <td>4.9</td>\n      <td>120.0</td>\n      <td>27.0</td>\n    </tr>\n    <tr>\n      <th>79</th>\n      <td>71.0</td>\n      <td>7.13</td>\n      <td>6.6</td>\n      <td>150.0</td>\n      <td>26.0</td>\n    </tr>\n  </tbody>\n</table>\n<p>80 rows × 5 columns</p>\n</div>"
     },
     "execution_count": 18,
     "metadata": {},
     "output_type": "execute_result"
    }
   ],
   "source": [
    "x_train"
   ],
   "metadata": {
    "collapsed": false
   }
  },
  {
   "cell_type": "code",
   "execution_count": 19,
   "outputs": [],
   "source": [
    "x_train = x_train.to_numpy()\n",
    "y_train = y_train.to_numpy()\n",
    "x_test = x_test.to_numpy()\n",
    "y_test = y_test.to_numpy()\n"
   ],
   "metadata": {
    "collapsed": false
   }
  },
  {
   "cell_type": "code",
   "execution_count": 20,
   "outputs": [],
   "source": [
    "regr2 = linear_model.LinearRegression(fit_intercept=True)\n",
    "regr2.fit(x_train,y_train)\n",
    "\n",
    "prediction = regr2.predict(x_test)"
   ],
   "metadata": {
    "collapsed": false
   }
  },
  {
   "cell_type": "code",
   "execution_count": 21,
   "outputs": [
    {
     "name": "stdout",
     "output_type": "stream",
     "text": [
      "[ 0.0089892   0.00708535  0.00808634  0.00260218 -0.00047742]\n"
     ]
    }
   ],
   "source": [
    "print(regr2.coef_)"
   ],
   "metadata": {
    "collapsed": false
   }
  },
  {
   "cell_type": "code",
   "execution_count": 37,
   "outputs": [
    {
     "data": {
      "text/plain": "array([0.91012272, 0.78452963, 1.22339369, 0.96085817, 0.96836123,\n       1.05009561, 1.19694736, 1.0521678 , 0.9936207 , 0.68503543,\n       0.78429172, 0.77109845, 1.19748204, 1.06844174, 0.99721921,\n       1.03380704, 1.14558205, 1.19228584, 1.29236178, 1.26252546])"
     },
     "execution_count": 37,
     "metadata": {},
     "output_type": "execute_result"
    }
   ],
   "source": [
    "prediction"
   ],
   "metadata": {
    "collapsed": false
   }
  },
  {
   "cell_type": "code",
   "execution_count": 42,
   "outputs": [
    {
     "name": "stdout",
     "output_type": "stream",
     "text": [
      "0.02951355036957152\n"
     ]
    }
   ],
   "source": [
    "print(np.var(prediction))"
   ],
   "metadata": {
    "collapsed": false
   }
  },
  {
   "cell_type": "code",
   "execution_count": 54,
   "outputs": [
    {
     "name": "stdout",
     "output_type": "stream",
     "text": [
      "0.17179508249531336\n"
     ]
    }
   ],
   "source": [
    "print(np.std(prediction))"
   ],
   "metadata": {
    "collapsed": false
   }
  },
  {
   "cell_type": "code",
   "execution_count": 38,
   "outputs": [],
   "source": [
    "summary = pd.DataFrame(prediction).describe()"
   ],
   "metadata": {
    "collapsed": false
   }
  },
  {
   "cell_type": "code",
   "execution_count": 51,
   "outputs": [
    {
     "data": {
      "text/plain": "               0\ncount  20.000000\nmean    1.028511\nstd     0.176258\nmin     0.685035\n25%     0.948174\n50%     1.041951\n75%     1.193451\nmax     1.292362",
      "text/html": "<div>\n<style scoped>\n    .dataframe tbody tr th:only-of-type {\n        vertical-align: middle;\n    }\n\n    .dataframe tbody tr th {\n        vertical-align: top;\n    }\n\n    .dataframe thead th {\n        text-align: right;\n    }\n</style>\n<table border=\"1\" class=\"dataframe\">\n  <thead>\n    <tr style=\"text-align: right;\">\n      <th></th>\n      <th>0</th>\n    </tr>\n  </thead>\n  <tbody>\n    <tr>\n      <th>count</th>\n      <td>20.000000</td>\n    </tr>\n    <tr>\n      <th>mean</th>\n      <td>1.028511</td>\n    </tr>\n    <tr>\n      <th>std</th>\n      <td>0.176258</td>\n    </tr>\n    <tr>\n      <th>min</th>\n      <td>0.685035</td>\n    </tr>\n    <tr>\n      <th>25%</th>\n      <td>0.948174</td>\n    </tr>\n    <tr>\n      <th>50%</th>\n      <td>1.041951</td>\n    </tr>\n    <tr>\n      <th>75%</th>\n      <td>1.193451</td>\n    </tr>\n    <tr>\n      <th>max</th>\n      <td>1.292362</td>\n    </tr>\n  </tbody>\n</table>\n</div>"
     },
     "execution_count": 51,
     "metadata": {},
     "output_type": "execute_result"
    }
   ],
   "source": [
    "summary"
   ],
   "metadata": {
    "collapsed": false
   }
  },
  {
   "cell_type": "code",
   "execution_count": 53,
   "outputs": [
    {
     "data": {
      "text/plain": "0    0.031067\nName: std, dtype: float64"
     },
     "execution_count": 53,
     "metadata": {},
     "output_type": "execute_result"
    }
   ],
   "source": [
    "summary.loc['std']**2"
   ],
   "metadata": {
    "collapsed": false
   }
  }
 ],
 "metadata": {
  "kernelspec": {
   "display_name": "Python 3",
   "language": "python",
   "name": "python3"
  },
  "language_info": {
   "codemirror_mode": {
    "name": "ipython",
    "version": 2
   },
   "file_extension": ".py",
   "mimetype": "text/x-python",
   "name": "python",
   "nbconvert_exporter": "python",
   "pygments_lexer": "ipython2",
   "version": "2.7.6"
  }
 },
 "nbformat": 4,
 "nbformat_minor": 0
}
